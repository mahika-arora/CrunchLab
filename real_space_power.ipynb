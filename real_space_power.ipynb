{
 "cells": [
  {
   "cell_type": "code",
   "execution_count": null,
   "id": "deb4e84e-3e1a-453b-9019-26d07cf803c6",
   "metadata": {},
   "outputs": [],
   "source": [
    "%load_ext autoreload\n",
    "%autoreload 2"
   ]
  },
  {
   "cell_type": "code",
   "execution_count": null,
   "id": "419ffc42-ba2d-4114-8147-e6aed5ecc8b5",
   "metadata": {},
   "outputs": [],
   "source": [
    "import numpy as np\n",
    "from numpy.random import default_rng\n",
    "from soap import reshape_soaps, compute_soap_density\n",
    "from ase.data import chemical_symbols\n",
    "import plotly.graph_objects as go\n",
    "import matplotlib.pyplot as plt\n",
    "from matplotlib.ticker import MultipleLocator\n",
    "import rascaline, sys, re, itertools\n",
    "from metatensor import Labels\n",
    "import ase.io as aseio\n",
    "from rdkit import Chem\n",
    "from rdkit.Chem import Descriptors, AllChem\n",
    "from matplotlib.backends.backend_pdf import PdfPages"
   ]
  },
  {
   "cell_type": "markdown",
   "id": "fa7d5c11-be1a-49b6-bfe5-a886d719be78",
   "metadata": {
    "jp-MarkdownHeadingCollapsed": true
   },
   "source": [
    "## Compute SOAP"
   ]
  },
  {
   "cell_type": "code",
   "execution_count": null,
   "id": "628e25bd-6e51-4c1b-be46-b3bef21f2fe1",
   "metadata": {},
   "outputs": [],
   "source": [
    "n_max = 8 ## Maximum number of radial basis function\n",
    "l_max = None\n",
    "cutoff = 4.0 ## Cutoff radiaus\n",
    "sigma = 0.3 ## Broadening parameter of Gaussian \n",
    "\n",
    "center_atom_number = 7\n",
    "\n",
    "# Loading the trajectory(XYZ File)\n",
    "frames = aseio.read(\"../soap/osdb_project_summer/tpa.xyz\", \":\")\n",
    "\n",
    "# hyperparameters for the SOAP descriptors\n",
    "hypers = {\n",
    "    \"cutoff\": cutoff,                                        # cutoff radius (Angstrom)\n",
    "    \"max_radial\": n_max,                                      # number of radial basis functions\n",
    "    \"atomic_gaussian_width\": sigma,                         # width of gaussian atomic density functions\n",
    "    \"radial_basis\": {\"Gto\": {}},                          # type of radial functions\n",
    "    \"cutoff_function\": {\"ShiftedCosine\": {\"width\": 0.5}}, # type of cutoff function (damping features along radius)\n",
    "    \"center_atom_weight\": 0.0,                            # center atom weight\n",
    "}\n",
    "\n",
    "#calculator = rascaline.SoapPowerSpectrum(**hypers) # Generate object - Power\n",
    "#names_lis = ['center_type', 'neighbor_1_type', 'neighbor_2_type'] \n",
    "\n",
    "## Below is for radial Series ##\n",
    "calculator = rascaline.SoapRadialSpectrum(**hypers) # Generate object - Radial\n",
    "names_lis = ['center_type', 'neighbor_type']\n",
    "\n",
    "## Specifying the [Center, Neighbor1, Neighbor2]\n",
    "\n",
    "combi_knock = [[center_atom_number,6]]#(Must be 2-D array)\n",
    "\n",
    "labels = Labels(names = names_lis, values = np.array(combi_knock, dtype = np.int32))\n",
    "\n",
    "#Labels(['center_type'], np.asarray([[center_atom_number]], dtype=np.int32)) # Defining the the species center"
   ]
  },
  {
   "cell_type": "code",
   "execution_count": null,
   "id": "0e202d47-21a2-4495-953a-b7d2bb833c7c",
   "metadata": {},
   "outputs": [],
   "source": [
    "rho2i = calculator.compute(frames,selected_keys=labels)\n",
    "print(rho2i)\n",
    "rho2i_i = rho2i.keys_to_properties(['neighbor_type'])\n",
    "print(rho2i_i)\n",
    "soaps = rho2i_i.blocks(center_type=center_atom_number)[0].values # center_type choose the center species for local environment ( We select the C-centered SOAP )\n",
    "\n",
    "# Number of centers (environments), number of SOAP features\n",
    "print(soaps[0].shape)"
   ]
  },
  {
   "cell_type": "markdown",
   "id": "2a43461d-8e96-4d6e-9c65-7b2035e906d3",
   "metadata": {
    "jp-MarkdownHeadingCollapsed": true
   },
   "source": [
    "## Compute real-space SOAP expansion"
   ]
  },
  {
   "cell_type": "code",
   "execution_count": null,
   "id": "da915957-2e25-4723-969f-6c2d19034ab2",
   "metadata": {},
   "outputs": [],
   "source": [
    "# Number of species and unique species pairs in the molecule\n",
    "n_species = 1\n",
    "\n",
    "# Reshape the SOAP vector to have the shape\n",
    "# (n_centers, n_species, n_max)\n",
    "mol_soap = reshape_soaps(\n",
    "    soaps[0],\n",
    "    n_pairs=n_species,\n",
    "    n_max=n_max,\n",
    "    l_max=l_max\n",
    ")\n",
    "\n",
    "# Create real-space grids on which to expand the SOAP\n",
    "# Radial grid\n",
    "n_r_grid = int(1e+5)\n",
    "r_grid = np.linspace(0.0, cutoff + 3 * sigma, n_r_grid)\n",
    "\n",
    "# Compute real-space SOAP density with shape\n",
    "# (n_centers, n_species, n_r_grid).\n",
    "# This gives us the SOAP vectors as a function of r\n",
    "mol_density = compute_soap_density(\n",
    "    mol_soap,\n",
    "    cutoff=cutoff,\n",
    "    n_max=n_max,\n",
    "    r_grid=r_grid,\n",
    "    l_max=l_max,\n",
    "    p_grid=None,\n",
    "    chunk_size_r=-1,\n",
    "    radial_basis='GTO',\n",
    "    gaussian_sigma=sigma,\n",
    "    projection_matrix=None\n",
    ")"
   ]
  },
  {
   "cell_type": "code",
   "execution_count": null,
   "id": "3feecad6-439b-4f2b-9d41-252df71b0a1f",
   "metadata": {},
   "outputs": [],
   "source": [
    "np.savetxt(\"../../data_analysis/soap/osdb_project_summer/tpa_radial_density_N_C_8nmax.csv\", \\\n",
    "           np.asarray(mol_density[0,0]), delimiter=',')"
   ]
  },
  {
   "cell_type": "markdown",
   "id": "38ecf902-071f-4246-8a4c-70e688494bb7",
   "metadata": {},
   "source": [
    "<span style=\"font-size:20px;font-weight:bold\"> Plot SOAP density expansion </span>"
   ]
  },
  {
   "cell_type": "code",
   "execution_count": null,
   "id": "2f2095c2-0b42-4368-8f59-fb7d32ed2aeb",
   "metadata": {},
   "outputs": [],
   "source": [
    "tma_mol = np.loadtxt(\"../../data_analysis/soap/osdb_project_summer/tma_radial_density_N_C.csv\", delimiter=',')\n",
    "tea_mol = np.loadtxt(\"../../data_analysis/soap/osdb_project_summer/tea_radial_density_N_C.csv\", delimiter=',')\n",
    "tpa_mol = np.loadtxt(\"../../data_analysis/soap/osdb_project_summer/tpa_radial_density_N_C.csv\", delimiter=',')\n",
    "\n",
    "fig, ax = plt.subplots(1, 1, figsize=(7, 6))\n",
    "\n",
    "n_r_grid = int(1e+5)\n",
    "r_grid = np.linspace(0.0, cutoff + 3 * sigma, n_r_grid)\n",
    "\n",
    "ax.plot(r_grid, tma_mol, linewidth = 7, alpha = .7, label = \"TMA\")\n",
    "ax.plot(r_grid, tea_mol , linewidth = 7, alpha = .7, label = \"TEA\")\n",
    "ax.plot(r_grid, tpa_mol , linewidth = 7, alpha = .7, label = \"TPA\")\n",
    "\n",
    "ax.set_title('N(Center) - C  Density', fontsize = 15)\n",
    "ax.set_xlabel('r / Å', fontsize = 15)\n",
    "ax.set_ylabel('$\\\\rho(r)$', fontsize = 15)\n",
    "\n",
    "#ax.set_yticks([])\n",
    "ax.axhline(y = 0.0, linestyle=':', linewidth=4, color = 'grey')\n",
    "ax.legend(fontsize = 15, loc = 'best')\n",
    "\n",
    "ax.xaxis.set_major_locator(MultipleLocator(1.0))\n",
    "ax.xaxis.set_minor_locator(MultipleLocator(.2))\n",
    "\n",
    "ax.tick_params(axis = 'both', direction = 'in', size = 7, width = 2.5,labelsize = 15, which = 'major')\n",
    "ax.tick_params(axis = 'both', direction = 'in', size = 4.5, width = 1.5,labelsize = 15, which = 'minor')\n",
    "\n",
    "pdf = PdfPages(\"../../data_analysis/soap/osdb_project_summer/N_C_radial_16nmax_nooffset.pdf\")\n",
    "fig.tight_layout()\n",
    "pdf.savefig(fig)\n",
    "pdf.close()\n",
    "#plt.show()"
   ]
  },
  {
   "cell_type": "markdown",
   "id": "7e24a94a-6faa-42e1-a939-33e2ad85439e",
   "metadata": {
    "jp-MarkdownHeadingCollapsed": true
   },
   "source": [
    "## Real-space cumulative decision function"
   ]
  },
  {
   "cell_type": "markdown",
   "id": "959ca0ab-f6fa-4ceb-8df5-d7be20854f46",
   "metadata": {
    "jupyter": {
     "source_hidden": true
    }
   },
   "source": [
    "We'll create some fake data just to illustrate how to transform the SVM weights into real space.\n",
    "(**NOTE:** This will only work if you use a linear SVM, we can't do this type of analysis with a nonlinear SVM)\n",
    "\n",
    "If you are using scikit-learn's LinearSVC or SVC with `kernel='linear'`, you can get the weights as `svc.coef_`,\n",
    "but you can also compute the weights as the dot product between the dual coefficients and the support vectors, i.e.,\n",
    "\n",
    "`weights = svc.dual_coef_ @ svc.support_vectors_`\n",
    "\n",
    "For a multi-class classification, you will have to do separate real-space expansions\n",
    "for the weights corresponding to each individual binary classifier\n",
    "\n",
    "(**NOTE:** If you centered and/or scaled your SOAP vectors before using them as input for the SVM,\n",
    "you'll have to apply the same operations in real-space. For instance, if you mean-centered the SOAPs\n",
    "and divided by some constant scale factor, in the SVM preprocessing step,\n",
    "you need to convert the mean into a real-space form\n",
    "---by passing it through the workflow just like you would for any other SOAP vector---\n",
    "subtract the real-space mean from the real-space SOAP density, and then scale the real-space SOAP\n",
    "density by the same scale factor from the SVM preprocessing routine)"
   ]
  },
  {
   "cell_type": "code",
   "execution_count": null,
   "id": "ac452048-6961-43be-af8a-a81e8a62a9a0",
   "metadata": {
    "jupyter": {
     "source_hidden": true
    }
   },
   "outputs": [],
   "source": [
    "# We will just generate some random weights and intercept for a single binary classification as an example\n",
    "seed = 100\n",
    "rng = default_rng(seed)\n",
    "weights = rng.random((1, soaps[0].shape[1])) # Weights have the shape (1, n_soap_features)\n",
    "intercept = rng.random() * 1.0E-2\n",
    "\n",
    "# Compute the real-space grid spacing\n",
    "# (changes based on whether you are using a GTO or a DVR\n",
    "# basis for your SOAP vectors); here we are using GTO\n",
    "dr = np.diff(r_grid)[0] # dr for GTOs\n",
    "# dr = 2.0 / len(r_grid) # dr for DVRs\n",
    "\n",
    "# We reshape the weights just like we did for the SOAP vectors\n",
    "mol_weights = reshape_soaps(\n",
    "    weights,\n",
    "    n_pairs=n_species,\n",
    "    n_max=n_max,\n",
    "    l_max=l_max\n",
    ")\n",
    "\n",
    "# We compute the weight density just like we did for the SOAP vectors.\n",
    "# This gives us the weights as a function of r\n",
    "mol_weight_density = compute_soap_density(\n",
    "    mol_weights,\n",
    "    cutoff=cutoff,\n",
    "    n_max=n_max,\n",
    "    r_grid=r_grid,\n",
    "    l_max=l_max,\n",
    "    p_grid=None,\n",
    "    chunk_size_r=-1,\n",
    "    radial_basis='GTO',\n",
    "    gaussian_sigma=sigma,\n",
    "    projection_matrix=None\n",
    ")"
   ]
  },
  {
   "cell_type": "markdown",
   "id": "e88794dc-67c4-40d8-a596-4f5f64881514",
   "metadata": {
    "jupyter": {
     "source_hidden": true
    }
   },
   "source": [
    "Typically in SVM the decision function is the dot product between a feature vector (e.g., a SOAP vector) and the SVM weights, plus the intercept:\n",
    "\n",
    "`decision_function = soap @ weights + intercept`\n",
    "\n",
    "Now that we have both the SOAP vectors and the weights as a function of `r`, the decision function is instead:\n",
    "\n",
    "`decision_function = dr * np.sum(real_space_soap * real_space_weights) + intercept`\n",
    "\n",
    "To get the \"spaghetti\" line, we can replace `np.sum` with `np.cumsum` to get the value of the decision function for each `r`"
   ]
  },
  {
   "cell_type": "code",
   "execution_count": null,
   "id": "2167f82a-bb76-4bea-af76-a8b3c5a9fe68",
   "metadata": {},
   "outputs": [],
   "source": [
    "cumulative_decision_function = dr * np.cumsum(mol_density[center_atom_idx, species_idx] * mol_weight_density[0, species_idx]) + intercept"
   ]
  },
  {
   "cell_type": "code",
   "execution_count": null,
   "id": "113e8d0a-416c-4a5f-9248-d42c4ce7af98",
   "metadata": {},
   "outputs": [],
   "source": [
    "# Add the spaghetti line to the plot we made before\n",
    "fig = plt.figure(figsize=(3.5, 3.5))\n",
    "ax = fig.add_subplot(1, 1, 1)\n",
    "ax.plot(r_grid, mol_density[center_atom_idx, species_idx], label=label)\n",
    "ax.set_xlabel('r')\n",
    "ax.set_ylabel('Density')\n",
    "ax.plot(r_grid, cumulative_decision_function, label='Decision function')\n",
    "ax.legend()\n",
    "plt.show()"
   ]
  },
  {
   "cell_type": "markdown",
   "id": "c030617e-4b09-4d09-ac47-4d422bbbb1ca",
   "metadata": {},
   "source": [
    "You can in principle do this same thing with the three-body power spectrum,\n",
    "but it is a bit more difficult. Below we compute and plot the real-space\n",
    "power spectrum SOAP, but we will skip the real-space expansion of the SVM weights"
   ]
  },
  {
   "cell_type": "markdown",
   "id": "9c2e3335-da1b-4cd8-a517-0aa010972a2c",
   "metadata": {},
   "source": [
    "# Power Spectrum"
   ]
  },
  {
   "cell_type": "markdown",
   "id": "84004d2f-ea14-4b77-b0bd-84742385fd58",
   "metadata": {},
   "source": [
    "## Compute SOAP"
   ]
  },
  {
   "cell_type": "code",
   "execution_count": null,
   "id": "71cd8d56-7281-43fc-a5c9-4b086d11abe5",
   "metadata": {},
   "outputs": [],
   "source": [
    "#####################\n",
    "### SMILE -> XYZ ####\n",
    "#####################\n",
    "\n",
    "mol = Chem.rdmolfiles.MolFromSmiles(\"CC[N+](CC)(CC)CC\")    # Constructing molecule from the SMILE,  Input the string\n",
    "mol = Chem.AddHs(mol)                         # Adding H\n",
    "AllChem.EmbedMolecule(mol)                    # Generate 3D coordinate\n",
    "\n",
    "## Update needed for automate XYZ file writing\n",
    "\n",
    "with open(\"../soap/osdb_project_summer/tma.xyz\",\"w\") as f:\n",
    "    \n",
    "  f.write(str(mol.GetNumAtoms()) + \"\\n\\n\")      # Total number of atoms\n",
    "  #f.write(f\"{15:.3f} {15:.3f} {15:.3f}\\n\")    # Lattice parameter (i.e. 10.0 Angstrom, Change needed)\n",
    "  for atom in mol.GetAtoms():\n",
    "      pos = mol.GetConformer().GetAtomPosition(atom.GetIdx())                       # Gathering position of each atom -> pos\n",
    "      f.write(str(atom.GetSymbol()) + f\"    {pos.x:.4f}   {pos.y:.4f}   {pos.z:.4f}\\n\") # Writing into the XYZ format"
   ]
  },
  {
   "cell_type": "code",
   "execution_count": null,
   "id": "b317881e-6775-4c41-8c2f-338a285cde61",
   "metadata": {},
   "outputs": [],
   "source": [
    "n_max = 12\n",
    "l_max = 9\n",
    "cutoff = 3.5\n",
    "sigma = 0.3\n",
    "\n",
    "center_atom_number = 7\n",
    "\n",
    "# Loading the trajectory(XYZ File)\n",
    "frames = aseio.read(\"../soap/osdb_project_summer/tma.xyz\", \":\")\n",
    "\n",
    "# hyperparameters for the SOAP descriptors\n",
    "hypers = {\n",
    "    \"cutoff\": cutoff,                                        # cutoff radius (Angstrom)\n",
    "    \"max_radial\": n_max,                                      # number of radial basis functions\n",
    "    \"max_angular\": l_max,                                     # number of spherical harmonics (For three body correlation)\n",
    "    \"atomic_gaussian_width\": sigma,                         # width of gaussian atomic density functions\n",
    "    \"radial_basis\": {\"Gto\": {}},                          # type of radial functions\n",
    "    \"cutoff_function\": {\"ShiftedCosine\": {\"width\": 0.5}}, # type of cutoff function (damping features along radius)\n",
    "    \"center_atom_weight\": 1.0,                            # center atom weight\n",
    "}\n",
    "\n",
    "calculator = rascaline.SoapPowerSpectrum(**hypers) # Generate object - Power\n",
    "names_lis = ['center_type', 'neighbor_1_type', 'neighbor_2_type']\n",
    "\n",
    "combi_knock = [[center_atom_number,6,6],\\\n",
    "               [center_atom_number,6,7],\\\n",
    "               [center_atom_number,7,7]] #(Must be 2-D array)\n",
    "\n",
    "labels = Labels(names = names_lis, values = np.array(combi_knock, dtype = np.int32))"
   ]
  },
  {
   "cell_type": "code",
   "execution_count": null,
   "id": "18f0ad2c-2d15-4077-b3ab-12295022dc15",
   "metadata": {},
   "outputs": [],
   "source": [
    "rho2i = calculator.compute(frames,selected_keys=labels)\n",
    "print(rho2i)\n",
    "\n",
    "rho2i_i = rho2i.keys_to_properties(['neighbor_1_type', 'neighbor_2_type'])\n",
    "print(rho2i_i)\n",
    "\n",
    "soaps = rho2i_i.blocks(center_type=center_atom_number)[0].values # center_type choose the center species for local environment ( We select the C-centered SOAP )"
   ]
  },
  {
   "cell_type": "markdown",
   "id": "16a99c2f-0b03-4d84-8505-b3c9a44c470e",
   "metadata": {},
   "source": [
    "## Compute real-space SOAP expansion"
   ]
  },
  {
   "cell_type": "code",
   "execution_count": null,
   "id": "83d89289-0331-4a58-9685-c3a73cab9aa3",
   "metadata": {},
   "outputs": [],
   "source": [
    "# Number of species and unique species pairs in the molecule\n",
    "#unique_species = np.unique(mol.get_atomic_numbers())\n",
    "unique_species = np.asarray([6, 7])\n",
    "unique_species_pairs = list(itertools.combinations_with_replacement(unique_species, 2))\n",
    "print(unique_species_pairs)\n",
    "n_species = len(unique_species)\n",
    "n_species_pairs = len(unique_species_pairs)\n",
    "# n_species_pairs = n_species * (n_species + 1) // 2\n",
    "\n",
    "# Reshape the SOAP vector to have the shape\n",
    "# (n_centers, n_pairs, n_max, n_max, l_max+1)\n",
    "mol_soap = reshape_soaps(\n",
    "    soaps[0],\n",
    "    n_pairs=n_species_pairs,\n",
    "    n_max=n_max,\n",
    "    l_max=l_max\n",
    ")\n",
    "\n",
    "# Create real-space grids on which to expand the SOAP\n",
    "# Radial grid\n",
    "n_r_grid = 100\n",
    "r_grid = np.linspace(0.0, cutoff + 3 * sigma, n_r_grid)\n",
    "\n",
    "# Angular grid\n",
    "n_p_grid = 100\n",
    "p_grid = np.linspace(-1.0, 1.0, n_p_grid)\n",
    "\n",
    "# Compute real-space SOAP density with shape\n",
    "# (n_centers, n_species_pairs, n_r_grid, n_r'_grid, n_p_grid).\n",
    "# This gives us the SOAP vectors as a function of r, r', and w\n",
    "mol_density = compute_soap_density(\n",
    "    mol_soap,\n",
    "    cutoff=cutoff,\n",
    "    n_max=n_max,\n",
    "    r_grid=r_grid,\n",
    "    l_max=l_max,\n",
    "    p_grid=p_grid,\n",
    "    chunk_size_r=-1,\n",
    "    chunk_size_p=-1,\n",
    "    radial_basis='GTO',\n",
    "    gaussian_sigma=sigma,\n",
    "    projection_matrix=None\n",
    ")"
   ]
  },
  {
   "cell_type": "markdown",
   "id": "ca2a4d56-e770-43fa-88b8-dfae1b2374da",
   "metadata": {},
   "source": [
    "## Plot SOAP density expansion"
   ]
  },
  {
   "cell_type": "code",
   "execution_count": null,
   "id": "2980464a-75ea-4b6f-bd05-b58ab1c02170",
   "metadata": {
    "jupyter": {
     "source_hidden": true
    }
   },
   "outputs": [],
   "source": [
    "# Function for plotting the real-space SOAP density with plotly\n",
    "def make_plot(\n",
    "    output, \n",
    "    r_grid, \n",
    "    p_grid, \n",
    "    density,\n",
    "    species_pair_name=None,\n",
    "    center_atom_name=None\n",
    "):\n",
    "    \n",
    "    # Camera view settings\n",
    "    x = -1.25\n",
    "    y = -1.25\n",
    "    z = 1.25\n",
    "\n",
    "    # Compute aspect ratio from data\n",
    "    # so we can set it manually including zoom\n",
    "    # TODO: make this compatible with differing r_grid and p_grid sizes\n",
    "    zoom = 1.0\n",
    "    aspect_ratio_keys = ['x', 'y', 'z']\n",
    "    xyz_max = np.amax(np.column_stack((r_grid, r_grid, p_grid)), axis=0)\n",
    "    xyz_min = np.amin(np.column_stack((r_grid, r_grid, p_grid)), axis=0)\n",
    "    xyz_ratios = np.abs(xyz_max - xyz_min)\n",
    "    xyz_ratios = xyz_ratios / xyz_ratios[0] * zoom\n",
    "    xyz_ratios[2] *= xyz_ratios[0] / xyz_ratios[2] # Make cube\n",
    "\n",
    "    aspect_ratio = {key: value for key, value in zip(aspect_ratio_keys, xyz_ratios)}\n",
    "        \n",
    "    # Plot\n",
    "    rx_grid, ry_grid, pz_grid = np.meshgrid(r_grid, r_grid, p_grid, indexing='ij')\n",
    "\n",
    "    # Useful quantities for defining isosurface limits\n",
    "    max = np.amax(density)\n",
    "    min = np.amin(density)\n",
    "    avg = np.mean(density)\n",
    "    std = np.std(density)\n",
    "\n",
    "    # Plot the isosurface\n",
    "    fig = go.Figure()\n",
    "    fig.add_trace(\n",
    "        go.Isosurface(\n",
    "            x=rx_grid.flatten(),\n",
    "            y=ry_grid.flatten(),\n",
    "            z= - pz_grid.flatten(),\n",
    "            value= density.flatten(),\n",
    "            coloraxis='coloraxis1',\n",
    "            isomin=max - 12 * std,\n",
    "            isomax=max - 6 * std,\n",
    "            opacity=0.3,\n",
    "            surface_count=4,\n",
    "            caps=dict(x_show=False, y_show=False, z_show=False)\n",
    "        )\n",
    "    )\n",
    "\n",
    "    # Plot title and layout\n",
    "    font_size = 18\n",
    "    species_pair_title = '-'.join(re.findall('[A-Z][a-z]*', species_pair_name))\n",
    "    fig.update_layout(\n",
    "        template='simple_white',\n",
    "        title=dict(\n",
    "            text=f'{center_atom_name}-<b>{species_pair_title}</b>',\n",
    "            font=dict(size=2.0 * font_size),\n",
    "            x=0.5, y=0.85,\n",
    "            xanchor='center',\n",
    "            yanchor='top'\n",
    "        ),\n",
    "        scene=dict(\n",
    "            xaxis=dict(\n",
    "                title=dict(text='r', font=dict(size=font_size)),\n",
    "                tickfont=dict(size=0.75 * font_size),\n",
    "                ticks='inside',\n",
    "                tickwidth=2,\n",
    "                linewidth=2,\n",
    "                showgrid=True,\n",
    "                mirror=True\n",
    "            ),\n",
    "            yaxis=dict(\n",
    "                title=dict(text='r\\'', font=dict(size=font_size)),\n",
    "                tickfont=dict(size=0.75 * font_size),\n",
    "                ticks='inside',\n",
    "                tickwidth=2,\n",
    "                linewidth=2,\n",
    "                showgrid=True,\n",
    "                mirror=True\n",
    "            ),\n",
    "            zaxis=dict(\n",
    "                title=dict(text='w', font=dict(size=font_size)),\n",
    "                tickfont=dict(size=0.75 * font_size),\n",
    "                ticks='inside',\n",
    "                tickwidth=2,\n",
    "                linewidth=2,\n",
    "                showgrid=True,\n",
    "                mirror=True\n",
    "            ),\n",
    "            camera=dict(\n",
    "                eye=dict(x=-1.25, y=-1.25, z=1.25),\n",
    "                projection=dict(type='orthographic')\n",
    "            ),\n",
    "            aspectratio=aspect_ratio\n",
    "        ),\n",
    "        legend=dict(\n",
    "            x=0.0, y=1.0,\n",
    "            xanchor='left', yanchor='top',\n",
    "            itemsizing='constant'\n",
    "        ),\n",
    "        coloraxis1=dict(\n",
    "            colorscale='Reds',\n",
    "            colorbar=dict(\n",
    "                title=dict(\n",
    "                    text='Density', \n",
    "                    side='right',\n",
    "                    font=dict(size=font_size)\n",
    "                ),\n",
    "                ticks='inside',\n",
    "                tickwidth=2,\n",
    "                ticklen=10,\n",
    "                tickfont=dict(size=font_size),\n",
    "                outlinecolor='Black',\n",
    "                outlinewidth=2,\n",
    "                len=0.5,\n",
    "                x=-0.02, xanchor='right'\n",
    "            ),\n",
    "        ),\n",
    "        font=dict(size=14, family='helvetica, sans-serif'),\n",
    "        autosize=False, width=800, height=800,\n",
    "    )\n",
    "    \n",
    "    fig.write_html(f'{output}.html')\n",
    "    return fig"
   ]
  },
  {
   "cell_type": "code",
   "execution_count": null,
   "id": "125d1576-d583-499f-a42c-4b5c7eea89b3",
   "metadata": {},
   "outputs": [],
   "source": [
    "# Possible species pairings for describing SOAP environments\n",
    "unique_species_pairs_symbols = [\n",
    "    (chemical_symbols[z1], chemical_symbols[z2]) for (z1, z2) in unique_species_pairs\n",
    "]\n",
    "\n",
    "print(unique_species_pairs_symbols)"
   ]
  },
  {
   "cell_type": "code",
   "execution_count": null,
   "id": "3dde4645-419a-4aa2-a856-65eb1fce40a4",
   "metadata": {},
   "outputs": [],
   "source": [
    "# Examine the environment of the C atom (i.e., the atom with index 0)\n",
    "center_atom_idx = 0\n",
    "\n",
    "# Look at hydrogen-hydrogen correlations in the environment\n",
    "# (i.e., the species pair with index 0)\n",
    "species_pair_idx =0\n",
    "\n",
    "# Plot the density correlations for the specified atom\n",
    "# and for the specified atomic correlations.\n",
    "# Writes a file 'molecule.html' with the density plot;\n",
    "# open this file with your web browser to get an interactive plot\n",
    "fig = make_plot(\n",
    "    'tma_NCC', \n",
    "    r_grid, \n",
    "    p_grid, \n",
    "    mol_density[center_atom_idx, species_pair_idx],\n",
    "    center_atom_name=chemical_symbols[center_atom_number],\n",
    "    species_pair_name=''.join(unique_species_pairs_symbols[species_pair_idx]),\n",
    ")"
   ]
  },
  {
   "cell_type": "code",
   "execution_count": null,
   "id": "f1648c54-159a-4c55-a31f-dad1fcd7e772",
   "metadata": {},
   "outputs": [],
   "source": [
    "fig.show() # We can show the density directly in the notebook, but it is very slow"
   ]
  },
  {
   "cell_type": "markdown",
   "id": "2ec34a62-8316-4f19-8130-d97ef5adcb41",
   "metadata": {
    "jp-MarkdownHeadingCollapsed": true
   },
   "source": [
    "# Function documentation"
   ]
  },
  {
   "cell_type": "markdown",
   "id": "0adb87cb-ad07-434c-bd76-8578710d41b5",
   "metadata": {},
   "source": [
    "For reference"
   ]
  },
  {
   "cell_type": "code",
   "execution_count": null,
   "id": "edfd6fce-4932-4af1-b276-078448269abf",
   "metadata": {},
   "outputs": [],
   "source": [
    "help(librascal_soap)"
   ]
  },
  {
   "cell_type": "code",
   "execution_count": null,
   "id": "454435f9-1290-4168-bc68-a93863027dfd",
   "metadata": {},
   "outputs": [],
   "source": [
    "help(reshape_soaps)"
   ]
  },
  {
   "cell_type": "code",
   "execution_count": null,
   "id": "de099c0c-bd54-4724-92d0-4e328310482c",
   "metadata": {},
   "outputs": [],
   "source": [
    "help(compute_soap_density)"
   ]
  },
  {
   "cell_type": "code",
   "execution_count": null,
   "id": "32bcf2c8-784f-4257-869a-b8340b2ad9fd",
   "metadata": {},
   "outputs": [],
   "source": []
  }
 ],
 "metadata": {
  "kernelspec": {
   "display_name": "Python 3 (ipykernel)",
   "language": "python",
   "name": "python3"
  },
  "language_info": {
   "codemirror_mode": {
    "name": "ipython",
    "version": 3
   },
   "file_extension": ".py",
   "mimetype": "text/x-python",
   "name": "python",
   "nbconvert_exporter": "python",
   "pygments_lexer": "ipython3",
   "version": "3.11.8"
  }
 },
 "nbformat": 4,
 "nbformat_minor": 5
}
